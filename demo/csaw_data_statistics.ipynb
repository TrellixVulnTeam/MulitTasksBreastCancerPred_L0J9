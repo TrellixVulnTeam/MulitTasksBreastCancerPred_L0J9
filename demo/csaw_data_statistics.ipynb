{
  "cells": [
    {
      "cell_type": "code",
      "execution_count": null,
      "metadata": {
        "colab": {
          "base_uri": "https://localhost:8080/"
        },
        "id": "MHIW1TLo8pVO",
        "outputId": "16c99124-1d0b-482a-a123-4516159f2374"
      },
      "outputs": [],
      "source": [
        "import os\n",
        "os.chdir('/mnt/nas4/diskl/MMG/Data/MMG-R1/CSAW_1')"
      ]
    },
    {
      "cell_type": "code",
      "execution_count": null,
      "metadata": {
        "id": "v6nfVgli3-HK"
      },
      "outputs": [],
      "source": [
        "import random\n",
        "import pandas as pd\n",
        "import numpy as np\n",
        "import matplotlib.pyplot as plt"
      ]
    },
    {
      "cell_type": "markdown",
      "metadata": {},
      "source": [
        "The dataset contains x-ray images, mammography, from breast cancer screening at the Karolinska University Hospital, Stockholm, Sweden, collected by principal investigator Fredrik Strand at Karolinska Institutet. The purpose for the use of the dataset shall be to perform breast cancer research to improve screening, diagnostics and prognostics of breast cancer. 1103 cases of first-time breast cancer for women in the screening age range (40-74 years) during the included time period (November 2008 to December 2015) were included. A random selection of 10,000 healthy controls during the same time period were included. For each individual all screening mammograms, also repeated over time, were included; as well as the date of screening and the age. In addition, there are pixel-level annotations of the tumors created by breast radiologist Dr Karin Dembrower (small lesions such as micro-calcifications have been annotated as an area). Annotations were also drawn in mammograms prior to diagnosis; if these contain a single pixel it means no cancer was seen but the estimated location of the center of the future cancer was shown by a single pixel annotation. In addition to images, the dataset also contains cancer data created at the Karolinska University Hospital and extracted through the Regional Cancer Center Stockholm-Gotland. This data contains information about the time of diagnosis and cancer characteristics including tumor size, histology and lymph node metastasis. The precision of non-image data was decreased, through categorisation and jittering, to ensure that no single individual can be identified.\n",
        "\n",
        "该数据集包含来自瑞典斯德哥尔摩卡罗林斯卡大学医院乳腺癌筛查的 X 射线图像、乳房 X 光检查，由卡罗林斯卡学院的首席研究员 Fredrik Strand 收集。使用数据集的目的是进行乳腺癌研究，以改进乳腺癌的筛查、诊断和预后。纳入研究期间（2008 年 11 月至 2015 年 12 月）筛查年龄范围（40-74 岁）的女性首次乳腺癌病例 1103 例。包括在同一时间段内随机选择的 10,000 名健康对照。每个人的所有筛查乳房 X 线照片，也随着时间的推移而重复，都包括在内；以及筛选日期和年龄。此外，还有乳腺放射科医生 Karin Dembrower 博士创建的肿瘤像素级注释（微钙化等小病灶已被注释为一个区域）。诊断前在乳房 X 线照片中也绘制了注释；如果这些包含单个像素，则表示没有看到癌症，但未来癌症中心的估计位置由单个像素注释显示。除了图像，该数据集还包含在卡罗林斯卡大学医院创建并通过斯德哥尔摩-哥特兰地区癌症中心提取的癌症数据。该数据包含有关诊断时间和癌症特征的信息，包括肿瘤大小、组织学和淋巴结转移。通过分类和抖动，降低非图像数据的精度，以确保无法识别单个个体。"
      ]
    },
    {
      "cell_type": "markdown",
      "metadata": {
        "id": "V_qTPVFCKuzg"
      },
      "source": [
        "## Load csv data"
      ]
    },
    {
      "cell_type": "code",
      "execution_count": null,
      "metadata": {
        "colab": {
          "base_uri": "https://localhost:8080/",
          "height": 270
        },
        "id": "9vKP5iji86mx",
        "outputId": "3630f279-ba03-4619-bcc7-015ff42cba87"
      },
      "outputs": [],
      "source": [
        "csaw_df = pd.read_csv('anon_dataset_nonhidden_211125.csv')\n",
        "csaw_df.head()"
      ]
    },
    {
      "cell_type": "code",
      "execution_count": null,
      "metadata": {
        "colab": {
          "base_uri": "https://localhost:8080/"
        },
        "id": "Pxsi_PaRkEFw",
        "outputId": "ec56a88e-ebbc-4413-cd34-9415306e8788"
      },
      "outputs": [],
      "source": [
        "\n",
        "print(\"Total patients ==>\",len(csaw_df.anon_patientid.unique()))\n",
        "print(\"Total images ==>\",len(csaw_df))"
      ]
    },
    {
      "cell_type": "code",
      "execution_count": null,
      "metadata": {
        "id": "U8A9XUoDl6o8"
      },
      "outputs": [],
      "source": [
        "## fullfill missing data\n",
        "csaw_df['x_cancer_laterality'] = csaw_df['x_cancer_laterality'].fillna(value='NULL')\n",
        "csaw_df['x_type'] = csaw_df['x_type'].fillna(value=0)\n",
        "csaw_df['x_lymphnode_met'] = csaw_df['x_lymphnode_met'].fillna(value=-1)\n",
        "csaw_df['rad_timing'] = csaw_df['rad_timing'].fillna(value=0)\n",
        "csaw_df['rad_r1'] = csaw_df['rad_r1'].fillna(value=0)\n",
        "csaw_df['rad_r2'] = csaw_df['rad_r2'].fillna(value=0)\n",
        "csaw_df['rad_recall_type_right'] = csaw_df['rad_recall_type_right'].fillna(value=0)\n",
        "csaw_df['rad_recall_type_left'] = csaw_df['rad_recall_type_left'].fillna(value=0)"
      ]
    },
    {
      "cell_type": "code",
      "execution_count": null,
      "metadata": {
        "colab": {
          "base_uri": "https://localhost:8080/"
        },
        "id": "H40jBdY_Mx2D",
        "outputId": "6b6a9a92-8f20-4da3-9127-dbb39218197b"
      },
      "outputs": [],
      "source": [
        "print(csaw_df[csaw_df.x_cancer_laterality=='Left'].count()[-1], csaw_df[csaw_df.x_cancer_laterality=='Right'].count()[-1],  csaw_df[csaw_df.x_cancer_laterality=='NULL'].count()[-1])"
      ]
    },
    {
      "cell_type": "code",
      "execution_count": null,
      "metadata": {
        "colab": {
          "base_uri": "https://localhost:8080/",
          "height": 488
        },
        "id": "15YmOncinzMy",
        "outputId": "e34e7f2f-c0be-4199-e933-f804b6616367"
      },
      "outputs": [],
      "source": [
        "csaw_df"
      ]
    },
    {
      "cell_type": "markdown",
      "metadata": {
        "id": "jGlrTexRclK9"
      },
      "source": [
        "## Data summary"
      ]
    },
    {
      "cell_type": "markdown",
      "metadata": {
        "id": "-zCRlxvhVt2I"
      },
      "source": [
        "### [Pearson correlation](https://en.wikipedia.org/wiki/Pearson_correlation_coefficient)"
      ]
    },
    {
      "cell_type": "code",
      "execution_count": null,
      "metadata": {
        "colab": {
          "base_uri": "https://localhost:8080/",
          "height": 584
        },
        "id": "fGVUuoW2SfBH",
        "outputId": "41450dfa-e568-4cbc-c637-e5eb7358d938"
      },
      "outputs": [],
      "source": [
        "csaw_df.corr(method='pearson')"
      ]
    },
    {
      "cell_type": "markdown",
      "metadata": {
        "id": "klMcKvR9V0fx"
      },
      "source": [
        "### [Kendall correlation](https://en.wikipedia.org/wiki/Kendall_rank_correlation_coefficient)"
      ]
    },
    {
      "cell_type": "code",
      "execution_count": null,
      "metadata": {
        "colab": {
          "base_uri": "https://localhost:8080/",
          "height": 584
        },
        "id": "bRM8Y50otgI2",
        "outputId": "dbf3f4c3-8b74-46fb-d5e1-7be81fcca192"
      },
      "outputs": [],
      "source": [
        "csaw_df.corr(method='kendall')"
      ]
    },
    {
      "cell_type": "markdown",
      "metadata": {
        "id": "xQpNkcX2U4tV"
      },
      "source": [
        "### Summary table\n",
        "| Col Name              | Explaination                                                                                                                | Data range              | Pearson correlation with x_case | Kendall correlation with x_case | Remarks                                                                                          |   |\n",
        "|-----------------------|-----------------------------------------------------------------------------------------------------------------------------|-------------------------|---------------------------------|---------------------------------|--------------------------------------------------------------------------------------------------|---|\n",
        "| anon_patientid        | anonymous patient ID                                                                                                        | [2,11303]               | N.A.                            | N.A.                            | Totally 8723 patients annd 98788 images.<br>In those patients, 7850 are healthy, 873 are cancer. |   |\n",
        "| exam_year             | year of the mammography exam                                                                                                | [2008,2016]             | N.A.                            | N.A.                            |                                                                                                  |   |\n",
        "| anon_filename         | mammogram image file                                                                                                        | N.A.                    | N.A.                            | N.A.                            |                                                                                                  |   |\n",
        "| x_age                 | 1=40-55 years of age at mammography <br>2=55+ years of age at mammography                                                   | [1,2]                   | 0.078440                        | 0.078440                        | Some patients have different x_age classes during the study time                                 |   |\n",
        "| x_case                | 0=no cancer during study time<br>1=cancer during study time (see rad_timing below)                                          | [0,1]                   | 1.000000                        | 1.000000                        |                                                                                                  |   |\n",
        "| x_cancer_laterality   | left = cancer diagnosed in left breast<br>right = cancer diagnosed in right breast                                          | [NULL, Left, Right]     | N.A.                            | N.A.                            | The healthy group will be marked as NULL                                                         |   |\n",
        "| x_type                | 1=in situ only<br>2=invasive <=15 mm<br>3=invasive >15 mm                                                                   | [0,1,2,3]               | 0.949488                        | 0.977916                        | The healthy group will be marked as 0.                                                           |   |\n",
        "| x_lymphnode_met       | 0=no<br>1=yes                                                                                                               | [-1,0,1]                | 0.901377                        | 0.951941                        | The healthy group will be marked as -1                                                           |   |\n",
        "| rad_timing            | 1=<60 days from screening to diagnosis (screen-detected cancer)<br>2=60-729 days (interval cancer)<br>3=730+ (priors/other) | [0,1,2,3]               | 0.928035                        | 0.988717                        | The healthy group will be marked as 0.                                                           |   |\n",
        "| rad_r1                | 0=healthy<br>1=discuss                                                                                                      | [0,1]                   | 0.281708                        | 0.281708                        | The healthy group will be marked as 0.                                                           |   |\n",
        "| rad_r2                | 0=healthy<br>1=discuss                                                                                                      | [0,1]                   | 0.303546                        | 0.303546                        | The healthy group will be marked as 0.                                                           |   |\n",
        "| rad_recall            | 0=normal<br>1=recall                                                                                                        | [0,1]                   | 0.373997                        | 0.373997                        | The healthy group will be marked as 0.                                                           |   |\n",
        "| rad_recall_type_right | 1=radiological<br>2=symptomatic                                                                                             | [0,1,2]                 | 0.218952                        | 0.255188                        | The healthy group will be marked as 0.                                                           |   |\n",
        "| rad_recall_type_left  | 1=radiological<br>2=symptomatic                                                                                             | [0,1,2]                 | 0.221680                        | 0.256955                        | The healthy group will be marked as 0.                                                           |   |\n",
        "| imagelaterality       | left = image of left breast<br>right = image of right breast                                                                | [Left, Right]           | N.A.                            | N.A.                            |                                                                                                  |   |\n",
        "| viewposition          | cc = craniocaudal projection<br>mlo = mediolateral oblique projection                                                       | [CC, MLO]               | N.A.                            | N.A.                            |                                                                                                  |   |\n",
        "| libra_breastarea      | Breast area in cm2                                                                                                          | [25.621904, 601.10144]  | 0.034803                        | 0.029902                        |                                                                                                  |   |\n",
        "| libra_densearea       | Dense area in cm2                                                                                                           | [1.553888, 218.80656]   | 0.044915                        | 0.035635                        |                                                                                                  |   |\n",
        "| libra_percentdensity  | Percent density estimated by the Libra software                                                                             | [0.67153603, 96.554916] | 0.010570                        | 0.010050                        |                                                                                                  |   |"
      ]
    },
    {
      "cell_type": "markdown",
      "metadata": {
        "id": "MyJKdDppWJ97"
      },
      "source": [
        "## Group data into exam level and patient level"
      ]
    },
    {
      "cell_type": "markdown",
      "metadata": {
        "id": "oiK7689XjaM8"
      },
      "source": [
        "### Exam level table"
      ]
    },
    {
      "cell_type": "code",
      "execution_count": null,
      "metadata": {
        "colab": {
          "base_uri": "https://localhost:8080/",
          "height": 468
        },
        "id": "FTZ_sHjQkpuq",
        "outputId": "58a1299b-12a4-4eba-947b-a6b3e142f82c"
      },
      "outputs": [],
      "source": [
        "csaw_df_exam_level = csaw_df[['anon_patientid',\t\n",
        "              'exam_year',\n",
        "              'x_age',\t\n",
        "              'x_case',\t\n",
        "              'x_cancer_laterality',\t\n",
        "              'x_type',\t\n",
        "              'x_lymphnode_met',\t\n",
        "              'rad_timing',\t\n",
        "              'rad_r1',\t\n",
        "              'rad_r2',\t\n",
        "              'rad_recall',\t\n",
        "              'rad_recall_type_right',\t\n",
        "              'rad_recall_type_left'\n",
        "            ]].groupby(['anon_patientid','exam_year']).agg(\n",
        "              x_case = ('x_case', 'max'),\n",
        "              x_age = ('x_age','max'),\n",
        "              x_cancer_laterality = ('x_cancer_laterality','max'),\n",
        "              x_type = ('x_type','min'),\n",
        "              x_lymphnode_met = ('x_lymphnode_met','max'),\n",
        "              rad_timing = ('rad_timing','min'),\n",
        "              rad_r1 = ('rad_r1','max'),\n",
        "              rad_r2 = ('rad_r2','max'),\n",
        "              rad_recall = ('rad_recall','max'),\n",
        "              rad_recall_type_right = ('rad_recall_type_right','max'),\n",
        "              rad_recall_type_left = ('rad_recall_type_left','max')\n",
        "            ).reset_index()\n",
        "csaw_df_exam_level"
      ]
    },
    {
      "cell_type": "markdown",
      "metadata": {
        "id": "Sumqd9KTjh0i"
      },
      "source": [
        "### Patient level table"
      ]
    },
    {
      "cell_type": "code",
      "execution_count": null,
      "metadata": {
        "colab": {
          "base_uri": "https://localhost:8080/",
          "height": 424
        },
        "id": "lHuQnPAxPeYN",
        "outputId": "f7b7e4eb-26bd-4ea7-fc09-6292701336a8"
      },
      "outputs": [],
      "source": [
        "# keep the latest exam one\n",
        "csaw_df_patient_level = csaw_df_exam_level[['anon_patientid',\n",
        "                'exam_year',\n",
        "                'x_age',\n",
        "                'x_case',\n",
        "                'x_cancer_laterality',\n",
        "                'rad_timing']].groupby(['anon_patientid']).agg(\n",
        "                    x_case = ('x_case', 'max'),\n",
        "                    x_age = ('x_age','max'),\n",
        "                    x_cancer_laterality = ('x_cancer_laterality','max'),\n",
        "                    rad_timing = ('rad_timing','min'),\n",
        "                    year_count = ('exam_year','count'),\n",
        "                    max_year = ('exam_year','max'),\n",
        "                    min_year = ('exam_year','min'),\n",
        "                    ).reset_index()\n",
        "csaw_df_patient_level['duration'] = csaw_df_patient_level['max_year']-csaw_df_patient_level['min_year']+1\n",
        "csaw_df_patient_level"
      ]
    },
    {
      "cell_type": "markdown",
      "metadata": {
        "id": "xFtLYNU2WTZ4"
      },
      "source": [
        "## Figures"
      ]
    },
    {
      "cell_type": "code",
      "execution_count": null,
      "metadata": {
        "id": "aQD0j-cH5p1O"
      },
      "outputs": [],
      "source": [
        "def count_exams(patient_level:pd.DataFrame,d_range = 10):\n",
        "  counts = []\n",
        "  for i in range(1, d_range):\n",
        "    counts.append(patient_level[patient_level.year_count == i].count()[-1])\n",
        "  return counts\n",
        "\n",
        "def count_durations(patient_level:pd.DataFrame,d_range = 10):\n",
        "  counts = []\n",
        "  for i in range(1, d_range):\n",
        "    counts.append(patient_level[patient_level.duration == i].count()[-1])\n",
        "  return counts\n"
      ]
    },
    {
      "cell_type": "code",
      "execution_count": null,
      "metadata": {
        "id": "2EZnzPnUDJhO"
      },
      "outputs": [],
      "source": [
        "def plot_bar_chart(label_list,objs,total_width = 0.8, xlabel = None, ylabel = None, title = None):\n",
        "  x = np.arange(len(label_list))\n",
        "  n = len(objs)\n",
        "  width = total_width / n\n",
        "  x = x - (total_width - width) / 2\n",
        "  for idx,obj in enumerate(objs):\n",
        "    plt.bar(x + idx*width, obj['ary'],  width=width, label=obj['label'])\n",
        "  plt.xticks(x,label_list)\n",
        "  if xlabel is not None:\n",
        "    plt.xlabel(xlabel)\n",
        "  if ylabel is not None:\n",
        "    plt.ylabel(ylabel)\n",
        "  if title is not None:\n",
        "    plt.title(title)\n",
        "  plt.legend()\n",
        "  plt.show()"
      ]
    },
    {
      "cell_type": "markdown",
      "metadata": {
        "id": "7sk_NFuLWjr5"
      },
      "source": [
        "### Cancer distribution"
      ]
    },
    {
      "cell_type": "code",
      "execution_count": null,
      "metadata": {
        "colab": {
          "base_uri": "https://localhost:8080/",
          "height": 368
        },
        "id": "4CsONffEtVmP",
        "outputId": "e79c633b-033c-40ed-d961-858a7ffa8fd3"
      },
      "outputs": [],
      "source": [
        "print(\"cancer ==>\")\n",
        "print(csaw_df_patient_level['x_case'].value_counts())\n",
        "cancer_label_list = ['healthy','cancer']\n",
        "cancer = {\n",
        "    'ary':[csaw_df_patient_level[csaw_df_patient_level.x_case== 0].count()[-1],csaw_df_patient_level[csaw_df_patient_level.x_case == 1].count()[-1]],\n",
        "    'label':'case'\n",
        "}\n",
        "plot_bar_chart(cancer_label_list,[cancer],total_width = 0.2,xlabel=\"patient case\",ylabel=\"number of patients\", title = \"Patient case distribution\")"
      ]
    },
    {
      "cell_type": "markdown",
      "metadata": {
        "id": "r7B56ffFWgVE"
      },
      "source": [
        "### Age distribution"
      ]
    },
    {
      "cell_type": "code",
      "execution_count": null,
      "metadata": {
        "colab": {
          "base_uri": "https://localhost:8080/",
          "height": 368
        },
        "id": "CrDjBoS9hWOq",
        "outputId": "706856ce-5fc0-4dbc-f078-921fe8eefd2c"
      },
      "outputs": [],
      "source": [
        "print(\"age ==>\")\n",
        "print(csaw_df_patient_level['x_age'].value_counts())\n",
        "\n",
        "age_label_list = ['40-55','55+']\n",
        "health_age = {\n",
        "    'ary':[csaw_df_patient_level[(csaw_df_patient_level.x_case == 0) & (csaw_df_patient_level.x_age== 1)].count()[-1],csaw_df_patient_level[(csaw_df_patient_level.x_case == 0) & (csaw_df_patient_level.x_age == 2)].count()[-1]],\n",
        "    'label':'healthy group'\n",
        "}\n",
        "\n",
        "cancer_age = {\n",
        "    'ary':[csaw_df_patient_level[(csaw_df_patient_level.x_case == 1) & (csaw_df_patient_level.x_age== 1)].count()[-1],csaw_df_patient_level[(csaw_df_patient_level.x_case == 1) & (csaw_df_patient_level.x_age == 2)].count()[-1]],\n",
        "    'label':'cancer group'\n",
        "}\n",
        "\n",
        "plot_bar_chart(age_label_list,[health_age,cancer_age],total_width = 0.2,xlabel=\"patient age\",ylabel=\"number of patients\", title = \"Patient age distribution\")"
      ]
    },
    {
      "cell_type": "markdown",
      "metadata": {
        "id": "LYAh6pdwWpKy"
      },
      "source": [
        "### Laterality distribution in cancer group"
      ]
    },
    {
      "cell_type": "code",
      "execution_count": null,
      "metadata": {
        "colab": {
          "base_uri": "https://localhost:8080/",
          "height": 387
        },
        "id": "0mn-E3pNtXjs",
        "outputId": "eed1369c-e48a-4a9b-baa9-7b0634d3f4c4"
      },
      "outputs": [],
      "source": [
        "print(\"cancer laterality ==>\")\n",
        "print(csaw_df_patient_level['x_cancer_laterality'].value_counts())\n",
        "laterality_label_list = ['Left','Right']\n",
        "laterality = {\n",
        "    'ary':[csaw_df_patient_level[csaw_df_patient_level.x_cancer_laterality== 'Left'].count()[-1],csaw_df_patient_level[csaw_df_patient_level.x_cancer_laterality == 'Right'].count()[-1]],\n",
        "    'label':'laterality'\n",
        "}\n",
        "plot_bar_chart(laterality_label_list,[laterality],total_width = 0.2,xlabel=\"laterality\",ylabel=\"number of patients\", title = \"Laterality distribution in cancer group\")"
      ]
    },
    {
      "cell_type": "markdown",
      "metadata": {
        "id": "3R0mo3cuWs9p"
      },
      "source": [
        "### Minimal rad timing distribution in cancer group"
      ]
    },
    {
      "cell_type": "code",
      "execution_count": null,
      "metadata": {
        "colab": {
          "base_uri": "https://localhost:8080/",
          "height": 405
        },
        "id": "suWPjw69tY2b",
        "outputId": "34d06ff2-f212-4fb1-e045-5b2cbdc87816"
      },
      "outputs": [],
      "source": [
        "print(\"latest rad timeing ==>\")\n",
        "print(csaw_df_patient_level['rad_timing'].value_counts())\n",
        "rad_timing_label_list = ['<60 days','60-729 days','>729 days']\n",
        "rad_timing = {\n",
        "    'ary':[\n",
        "        csaw_df_patient_level[csaw_df_patient_level.rad_timing == 1].count()[-1],\n",
        "        csaw_df_patient_level[csaw_df_patient_level.rad_timing == 2].count()[-1],\n",
        "        csaw_df_patient_level[csaw_df_patient_level.rad_timing == 3].count()[-1]\n",
        "        ],\n",
        "    'label':'rad_timing'\n",
        "}\n",
        "plot_bar_chart(rad_timing_label_list,[rad_timing],total_width = 0.2,xlabel=\"Minimal rad timing\",ylabel=\"number of patients\", title = \"Minimal rad timing distribution in cancer group\")"
      ]
    },
    {
      "cell_type": "markdown",
      "metadata": {
        "id": "ev7AzIB7W4i4"
      },
      "source": [
        "### Exam number distribution in healthy group and cancer group"
      ]
    },
    {
      "cell_type": "code",
      "execution_count": null,
      "metadata": {
        "colab": {
          "base_uri": "https://localhost:8080/",
          "height": 295
        },
        "id": "gThXxwEpwomS",
        "outputId": "f910cc5d-21fa-4634-dc4a-8f69679c8d21"
      },
      "outputs": [],
      "source": [
        "cancer_label_list = ['1','2','3','4','5','6','7','8','9']\n",
        "healthy = {\n",
        "    'ary':count_exams(csaw_df_patient_level[csaw_df_patient_level.x_case == 0]),\n",
        "    'label':'healthy group'\n",
        "}\n",
        "\n",
        "cancer = {\n",
        "    'ary':count_exams(csaw_df_patient_level[csaw_df_patient_level.x_case == 1]),\n",
        "    'label':'cancer group'\n",
        "}\n",
        "\n",
        "plot_bar_chart(cancer_label_list,[healthy, cancer],total_width = 0.8,xlabel=\"Exam number(times)\",ylabel=\"number of patients\", title = \"Exam number distribution in both groups\")"
      ]
    },
    {
      "cell_type": "markdown",
      "metadata": {
        "id": "LSKWaMT4XdyK"
      },
      "source": [
        "### Exam number distribution in different groups of minimal rad time"
      ]
    },
    {
      "cell_type": "code",
      "execution_count": null,
      "metadata": {
        "colab": {
          "base_uri": "https://localhost:8080/",
          "height": 295
        },
        "id": "aotytgCqIwX6",
        "outputId": "39d9fbf1-a1b9-4860-82f4-b084083bbbe5"
      },
      "outputs": [],
      "source": [
        "cancer_label_list = ['1','2','3','4','5','6','7','8','9']\n",
        "rad_1 = {\n",
        "    'ary':count_exams(csaw_df_patient_level[(csaw_df_patient_level.x_case == 1) & (csaw_df_patient_level.rad_timing == 1)]),\n",
        "    'label':'< 60 days'\n",
        "}\n",
        "\n",
        "rad_2 = {\n",
        "    'ary':count_exams(csaw_df_patient_level[(csaw_df_patient_level.x_case == 1) & (csaw_df_patient_level.rad_timing == 2)]),\n",
        "    'label':'60-729 day'\n",
        "}\n",
        "\n",
        "rad_3 = {\n",
        "    'ary':count_exams(csaw_df_patient_level[(csaw_df_patient_level.x_case == 1) & (csaw_df_patient_level.rad_timing == 3)]),\n",
        "    'label':'> 729 day'\n",
        "}\n",
        "\n",
        "plot_bar_chart(cancer_label_list,[rad_1,rad_2,rad_3],total_width = 0.8,xlabel=\"Exam number(times)\",ylabel=\"number of patients\", title = \"Exam number distribution in different groups of minimal rad time\")"
      ]
    },
    {
      "cell_type": "markdown",
      "metadata": {
        "id": "oM7o7XUSWCKa"
      },
      "source": [
        "### Study durations distribution in healthy group and cancer group"
      ]
    },
    {
      "cell_type": "code",
      "execution_count": null,
      "metadata": {
        "colab": {
          "base_uri": "https://localhost:8080/",
          "height": 295
        },
        "id": "l0JzP1xQlN4X",
        "outputId": "03f8405a-f236-40dc-e3dc-096b0694390c"
      },
      "outputs": [],
      "source": [
        "cancer_label_list = ['1','2','3','4','5','6','7','8','9']\n",
        "healthy = {\n",
        "    'ary':count_durations(csaw_df_patient_level[csaw_df_patient_level.x_case == 0]),\n",
        "    'label':'healthy group'\n",
        "}\n",
        "\n",
        "cancer = {\n",
        "    'ary':count_durations(csaw_df_patient_level[csaw_df_patient_level.x_case == 1]),\n",
        "    'label':'cancer group'\n",
        "}\n",
        "\n",
        "plot_bar_chart(cancer_label_list,[healthy, cancer],total_width = 0.8,xlabel=\"Study duration(years)\",ylabel=\"number of patients\", title = \"Study duration distribution in both groups\")"
      ]
    },
    {
      "cell_type": "markdown",
      "metadata": {
        "id": "Q_ufCsUqlePe"
      },
      "source": [
        "### Study durations distribution in different groups of minimal rad time"
      ]
    },
    {
      "cell_type": "code",
      "execution_count": null,
      "metadata": {
        "colab": {
          "base_uri": "https://localhost:8080/",
          "height": 295
        },
        "id": "0tunZl3LlkWH",
        "outputId": "1f49426a-79a5-4915-ae33-18629d00bf6e"
      },
      "outputs": [],
      "source": [
        "cancer_label_list = ['1','2','3','4','5','6','7','8','9']\n",
        "rad_1 = {\n",
        "    'ary':count_durations(csaw_df_patient_level[(csaw_df_patient_level.x_case == 1) & (csaw_df_patient_level.rad_timing == 1)]),\n",
        "    'label':'< 60 days'\n",
        "}\n",
        "\n",
        "rad_2 = {\n",
        "    'ary':count_durations(csaw_df_patient_level[(csaw_df_patient_level.x_case == 1) & (csaw_df_patient_level.rad_timing == 2)]),\n",
        "    'label':'60-729 day'\n",
        "}\n",
        "\n",
        "rad_3 = {\n",
        "    'ary':count_durations(csaw_df_patient_level[(csaw_df_patient_level.x_case == 1) & (csaw_df_patient_level.rad_timing == 3)]),\n",
        "    'label':'> 729 day'\n",
        "}\n",
        "\n",
        "plot_bar_chart(cancer_label_list,[rad_1,rad_2,rad_3],total_width = 0.8,xlabel=\"Study duration(years)\",ylabel=\"number of patients\", title = \"Study duration distribution in different groups of minimal rad time\")"
      ]
    }
  ],
  "metadata": {
    "colab": {
      "collapsed_sections": [
        "-zCRlxvhVt2I",
        "klMcKvR9V0fx"
      ],
      "name": "csaw_preview.ipynb",
      "provenance": [],
      "toc_visible": true
    },
    "kernelspec": {
      "display_name": "Python 3",
      "name": "python3"
    },
    "language_info": {
      "codemirror_mode": {
        "name": "ipython",
        "version": 3
      },
      "file_extension": ".py",
      "mimetype": "text/x-python",
      "name": "python",
      "nbconvert_exporter": "python",
      "pygments_lexer": "ipython3",
      "version": "3.9.7"
    }
  },
  "nbformat": 4,
  "nbformat_minor": 0
}

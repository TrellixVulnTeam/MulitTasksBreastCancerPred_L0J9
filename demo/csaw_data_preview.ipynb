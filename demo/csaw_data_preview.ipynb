{
 "cells": [
  {
   "cell_type": "code",
   "execution_count": 1,
   "metadata": {},
   "outputs": [],
   "source": [
    "import os\n",
    "from os import path\n",
    "from glob import glob\n",
    "\n",
    "import cv2\n",
    "import numpy as np\n",
    "import pandas as pd\n",
    "os.chdir('../')\n",
    "from lib.csaw_utils import get_exam_level_meta, get_patient_level_meta \n",
    "from lib.preprocess_utils import read_resize_img,segment_breast,crop_img,add_img_margins,get_max_connected_area"
   ]
  },
  {
   "cell_type": "code",
   "execution_count": 2,
   "metadata": {},
   "outputs": [],
   "source": [
    "CSAW_DIR = '/mnt/nas4/diskl/MMG/Data/MMG-R1/CSAW_1'\n",
    "MASK_DIR =  CSAW_DIR + '/anon_annotations_nonhidden'\n",
    "META_FILE = 'anon_dataset_nonhidden_211125.csv'"
   ]
  },
  {
   "cell_type": "code",
   "execution_count": 3,
   "metadata": {},
   "outputs": [],
   "source": [
    "csaw_meta = pd.read_csv(path.join(CSAW_DIR, META_FILE))"
   ]
  },
  {
   "cell_type": "code",
   "execution_count": 4,
   "metadata": {},
   "outputs": [],
   "source": [
    "cancer_images = csaw_meta[csaw_meta.x_case == 1]\n",
    "cancer_patients = csaw_meta[csaw_meta.x_case == 1].anon_patientid.unique()"
   ]
  },
  {
   "cell_type": "code",
   "execution_count": null,
   "metadata": {},
   "outputs": [],
   "source": [
    "import csv\n",
    "from tqdm import tqdm\n",
    "fields=['patient,img_file,mask_file']\n",
    "with open(os.path.join(CSAW_DIR,'csaw_dataset/','cancer_meta.csv'), 'a') as f:\n",
    "    writer = csv.writer(f)\n",
    "    # writer.writerow(fields)\n",
    "    with tqdm(total=len(cancer_images)) as pbar:\n",
    "        for patient in cancer_patients:\n",
    "            patient_imgs = csaw_meta[csaw_meta.anon_patientid == patient]\n",
    "            for img_file in patient_imgs.anon_filename.tolist():\n",
    "                full_img_pathes = glob(CSAW_DIR+'/*/'+img_file)\n",
    "                if len(full_img_path)==0 or path.exists(os.path.join(CSAW_DIR,'csaw_dataset/',img_file[:-4]+'.png')):\n",
    "                    continue\n",
    "                full_img_path = full_img_pathes[0]\n",
    "                mask_img_pathes = glob(MASK_DIR+'/'+img_file[:-4]+'_mask.png')\n",
    "                full_img = read_resize_img(full_img_path, (2000,3000),gs_255=False)\n",
    "                full_img_segment,bbox = segment_breast(full_img,erosion=False)\n",
    "                full_img_segment = cv2.resize(full_img_segment.astype(np.uint16),(2000,3000))\n",
    "                cv2.imwrite(os.path.join(CSAW_DIR,'csaw_dataset/',img_file[:-4]+'.png'),full_img_segment)\n",
    "                \n",
    "            \n",
    "                if len(mask_img_pathes) == 0:\n",
    "                    writer.writerow([patient,img_file[:-4]+'.png','NULL'])\n",
    "                else:\n",
    "                    mask_img_path = mask_img_pathes[0]\n",
    "                    mask_img =read_resize_img(mask_img_path, (2000,3000),gs_255=True)\n",
    "                    mask_img = crop_img(mask_img,bbox)\n",
    "                    mask_img = cv2.resize(mask_img,(2000,3000))\n",
    "                    cv2.imwrite(os.path.join(CSAW_DIR,'csaw_dataset/',img_file[:-4]+'_mask.png'),mask_img)\n",
    "                    writer.writerow([patient,img_file[:-4]+'.png',img_file[:-4]+'_mask.png'])\n",
    "                pbar.update(1)"
   ]
  },
  {
   "cell_type": "code",
   "execution_count": 7,
   "metadata": {},
   "outputs": [],
   "source": [
    "none_cancer_images = csaw_meta[csaw_meta.x_case == 0]\n",
    "none_cancer_patients = csaw_meta[csaw_meta.x_case == 0].anon_patientid.unique()"
   ]
  },
  {
   "cell_type": "code",
   "execution_count": 8,
   "metadata": {},
   "outputs": [
    {
     "name": "stderr",
     "output_type": "stream",
     "text": [
      "100%|█████████▉| 199/200 [39:20<00:11, 11.86s/it]\n"
     ]
    }
   ],
   "source": [
    "import csv\n",
    "from tqdm import tqdm\n",
    "with open(os.path.join(CSAW_DIR,'csaw_dataset/','cancer_meta.csv'), 'a') as f:\n",
    "    writer = csv.writer(f)\n",
    "    # writer.writerow(fields)\n",
    "    with tqdm(total=200) as pbar:\n",
    "        count = 0\n",
    "        for patient in none_cancer_patients:\n",
    "            patient_imgs = csaw_meta[csaw_meta.anon_patientid == patient]\n",
    "            for img_file in patient_imgs.anon_filename.tolist():\n",
    "                full_img_pathes = glob(CSAW_DIR+'/*/'+img_file)\n",
    "                if len(full_img_path)==0 or path.exists(os.path.join(CSAW_DIR,'csaw_dataset/',img_file[:-4]+'.png')):\n",
    "                    continue\n",
    "                full_img_path = full_img_pathes[0]\n",
    "                mask_img_pathes = glob(MASK_DIR+'/'+img_file[:-4]+'_mask.png')\n",
    "                full_img = read_resize_img(full_img_path, (2000,3000),gs_255=False)\n",
    "                full_img_segment,bbox = segment_breast(full_img,erosion=False)\n",
    "                full_img_segment = cv2.resize(full_img_segment.astype(np.uint16),(2000,3000))\n",
    "                cv2.imwrite(os.path.join(CSAW_DIR,'csaw_dataset/',img_file[:-4]+'.png'),full_img_segment)\n",
    "                \n",
    "            \n",
    "                if len(mask_img_pathes) == 0:\n",
    "                    writer.writerow([patient,img_file[:-4]+'.png','NULL'])\n",
    "                else:\n",
    "                    mask_img_path = mask_img_pathes[0]\n",
    "                    mask_img =read_resize_img(mask_img_path, (2000,3000),gs_255=True)\n",
    "                    mask_img = crop_img(mask_img,bbox)\n",
    "                    mask_img = cv2.resize(mask_img,(2000,3000))\n",
    "                    cv2.imwrite(os.path.join(CSAW_DIR,'csaw_dataset/',img_file[:-4]+'_mask.png'),mask_img)\n",
    "                    writer.writerow([patient,img_file[:-4]+'.png',img_file[:-4]+'_mask.png'])\n",
    "            count += 1\n",
    "            if count == 200:\n",
    "                break\n",
    "            pbar.update(1)"
   ]
  },
  {
   "cell_type": "code",
   "execution_count": 9,
   "metadata": {},
   "outputs": [],
   "source": [
    "images = glob('/mnt/nas4/diskl/MMG/Data/MMG-R1/CSAW_1/csaw_dataset/*.png')"
   ]
  },
  {
   "cell_type": "code",
   "execution_count": 12,
   "metadata": {},
   "outputs": [
    {
     "name": "stderr",
     "output_type": "stream",
     "text": [
      "100%|██████████| 10317/10317 [24:04<00:00,  7.14it/s]\n"
     ]
    }
   ],
   "source": [
    "with tqdm(total=len(images)) as pbar:\n",
    "    for img_f in images:\n",
    "        img = cv2.imread(img_f, cv2.IMREAD_GRAYSCALE)\n",
    "        img = cv2.resize(\n",
    "            img, dsize=(512, 1024), \n",
    "            interpolation=cv2.INTER_CUBIC)\n",
    "        cv2.imwrite(img_f,img)\n",
    "        pbar.update(1)"
   ]
  }
 ],
 "metadata": {
  "interpreter": {
   "hash": "cb56203a1b09618b738530ff504f36788c940be1aa1058bf26602e4d7318f4ed"
  },
  "kernelspec": {
   "display_name": "Python 3.9.7 ('torchenv')",
   "language": "python",
   "name": "python3"
  },
  "language_info": {
   "codemirror_mode": {
    "name": "ipython",
    "version": 3
   },
   "file_extension": ".py",
   "mimetype": "text/x-python",
   "name": "python",
   "nbconvert_exporter": "python",
   "pygments_lexer": "ipython3",
   "version": "3.9.7"
  },
  "orig_nbformat": 4
 },
 "nbformat": 4,
 "nbformat_minor": 2
}

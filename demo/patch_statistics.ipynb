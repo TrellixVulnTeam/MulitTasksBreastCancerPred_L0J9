{
 "cells": [
  {
   "cell_type": "code",
   "execution_count": 28,
   "metadata": {},
   "outputs": [],
   "source": [
    "import pandas as pd\n",
    "import matplotlib.pyplot as plt\n",
    "import numpy as np"
   ]
  },
  {
   "cell_type": "code",
   "execution_count": 13,
   "metadata": {},
   "outputs": [],
   "source": [
    "train_df = pd.read_csv('/mnt/c/Users/11351/Desktop/patch_set_1150_224/train_meta.csv')\n",
    "test_df = pd.read_csv('/mnt/c/Users/11351/Desktop/patch_set_1150_224/test_meta.csv')"
   ]
  },
  {
   "cell_type": "code",
   "execution_count": 10,
   "metadata": {},
   "outputs": [
    {
     "data": {
      "text/plain": [
       "array(['MALIGNANT', 'NORMAL', 'BENIGN', 'BENIGN_WITHOUT_CALLBACK'],\n",
       "      dtype=object)"
      ]
     },
     "execution_count": 10,
     "metadata": {},
     "output_type": "execute_result"
    }
   ],
   "source": [
    "train_df.pathology.unique()"
   ]
  },
  {
   "cell_type": "code",
   "execution_count": 14,
   "metadata": {},
   "outputs": [],
   "source": [
    "train_num_bkg = len(train_df[(train_df.type=='bkg')])\n",
    "train_num_ca = len(train_df[(train_df.type=='calcification')])\n",
    "train_num_ms = len(train_df[(train_df.type=='mass')])\n",
    "train_num_ma_ca = len(train_df[(train_df.type=='calcification')&(train_df.pathology=='MALIGNANT')])\n",
    "train_num_ma_ms = len(train_df[(train_df.type=='mass')&(train_df.pathology=='MALIGNANT')])\n",
    "train_num_be_ca = train_num_ca - train_num_ma_ca\n",
    "train_num_be_ms = train_num_ms - train_num_ma_ms\n",
    "\n",
    "test_num_bkg = len(test_df[(test_df.type=='bkg')])\n",
    "test_num_ca = len(test_df[(test_df.type=='calcification')])\n",
    "test_num_ms = len(test_df[(test_df.type=='mass')])\n",
    "test_num_ma_ca = len(test_df[(test_df.type=='calcification')&(test_df.pathology=='MALIGNANT')])\n",
    "test_num_ma_ms = len(test_df[(test_df.type=='mass')&(test_df.pathology=='MALIGNANT')])\n",
    "test_num_be_ca = test_num_ca - test_num_ma_ca\n",
    "test_num_be_ms = test_num_ms - test_num_ma_ms\n"
   ]
  },
  {
   "cell_type": "code",
   "execution_count": 29,
   "metadata": {},
   "outputs": [],
   "source": [
    "def plot_bar_chart(label_list,objs,total_width = 0.8, xlabel = None, ylabel = None, title = None):\n",
    "  x = np.arange(len(label_list))\n",
    "  n = len(objs)\n",
    "  width = total_width / n\n",
    "  x = x - (total_width - width) / 2\n",
    "  for idx,obj in enumerate(objs):\n",
    "    plt.bar(x + idx*width, obj['ary'],  width=width, label=obj['label'])\n",
    "  plt.xticks(x,label_list)\n",
    "  if xlabel is not None:\n",
    "    plt.xlabel(xlabel)\n",
    "  if ylabel is not None:\n",
    "    plt.ylabel(ylabel)\n",
    "  if title is not None:\n",
    "    plt.title(title)\n",
    "  plt.legend()\n",
    "  plt.show()"
   ]
  },
  {
   "cell_type": "code",
   "execution_count": 34,
   "metadata": {},
   "outputs": [
    {
     "data": {
      "image/png": "[encoded data removed]",
      "text/plain": [
       "<Figure size 432x288 with 1 Axes>"
      ]
     },
     "metadata": {
      "needs_background": "light"
     },
     "output_type": "display_data"
    }
   ],
   "source": [
    "label_list = ['bkg','be calc','be mass','ma calc','ma mass']\n",
    "train = {\n",
    "    'ary':[train_num_bkg,train_num_be_ca,train_num_be_ms,train_num_ma_ca,train_num_ma_ms],\n",
    "    'label':'train set'\n",
    "}\n",
    "test = {\n",
    "    'ary':[test_num_bkg,test_num_be_ca,test_num_be_ms,test_num_ma_ca,test_num_ma_ms],\n",
    "    'label':'test set'\n",
    "}\n",
    "plot_bar_chart(label_list,[train, test],total_width = 0.4,xlabel=\"patch type\",ylabel=\"number of patches\", title = \"patch distribution\")"
   ]
  }
 ],
 "metadata": {
  "interpreter": {
   "hash": "8609b21826d798a98d6deee4f5cc64606bfbea9c84f8e1d9b3bdca3981f93e7b"
  },
  "kernelspec": {
   "display_name": "Python 3.10.4 ('open-mmlab')",
   "language": "python",
   "name": "python3"
  },
  "language_info": {
   "codemirror_mode": {
    "name": "ipython",
    "version": 3
   },
   "file_extension": ".py",
   "mimetype": "text/x-python",
   "name": "python",
   "nbconvert_exporter": "python",
   "pygments_lexer": "ipython3",
   "version": "3.10.4"
  },
  "orig_nbformat": 4
 },
 "nbformat": 4,
 "nbformat_minor": 2
}

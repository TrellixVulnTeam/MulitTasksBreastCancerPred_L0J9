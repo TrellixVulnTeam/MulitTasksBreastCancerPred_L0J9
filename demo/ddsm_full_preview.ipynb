{
 "cells": [
  {
   "cell_type": "code",
   "execution_count": null,
   "metadata": {},
   "outputs": [],
   "source": [
    "import os\n",
    "from os import path\n",
    "from glob import glob\n",
    "os.chdir('../')\n",
    "from lib.preprocess_utils import show_img\n",
    "import cv2\n",
    "import torch\n",
    "import numpy as np\n",
    "import pandas as pd\n",
    "from matplotlib import pyplot as plt\n",
    "import mmcv\n",
    "import lmdb\n"
   ]
  },
  {
   "cell_type": "code",
   "execution_count": null,
   "metadata": {},
   "outputs": [],
   "source": [
    "csv1 = pd.read_csv('/mnt/nas4/diskl/MMG/Data/MMG-R1/SAMPLE_DATA_BREAST/breast_lv_train_set.csv')\n",
    "csv2 = pd.read_csv('/mnt/nas4/diskl/MMG/Data/MMG-R1/SAMPLE_DATA_BREAST/breast_lv_val_set.csv')\n",
    "csv3 = pd.read_csv('/mnt/nas4/diskl/MMG/Data/MMG-R1/SAMPLE_DATA_BREAST/breast_lv_test_set.csv')\n",
    "\n",
    "csv_f = pd.concat([csv1, csv2, csv3])"
   ]
  },
  {
   "cell_type": "code",
   "execution_count": null,
   "metadata": {},
   "outputs": [],
   "source": [
    "env = lmdb.open(\"/mnt/nas4/diskl/MMG/Data/MMG-R1/SAMPLE_DATA_BREAST/csaw_breast_lv_set/\", map_size=1099511627776) \n",
    "  \n",
    "with env.begin() as txn:\n",
    "   myList = [ key[2:-1] for key, _ in txn.cursor() ]\n",
    "print(myList)"
   ]
  },
  {
   "cell_type": "code",
   "execution_count": null,
   "metadata": {},
   "outputs": [],
   "source": [
    "for idx, row in csv_f.iterrows():\n",
    "    if row['cc_view'] not in myList:\n",
    "        print(row['cc_view'])\n",
    "    if row['mlo_view'] not in myList:\n",
    "        print(row['mlo_view'])"
   ]
  },
  {
   "cell_type": "code",
   "execution_count": null,
   "metadata": {},
   "outputs": [],
   "source": [
    "img = cv2.imread('/mnt/f/datasets/cbis-ddsm-png/full_mammogram_images/Mass-Training_P_01031_LEFT_CC.png', cv2.IMREAD_ANYDEPTH)\n",
    "img = ((img/65535).astype(np.float32)-0.4)/0.2\n",
    "show_img(img)"
   ]
  },
  {
   "cell_type": "code",
   "execution_count": null,
   "metadata": {},
   "outputs": [],
   "source": [
    "env = lmdb.open(\"/mnt/nas4/diskl/MMG/Data/MMG-R1/SAMPLE_DATA/csaw_set/\", map_size=1099511627776) \n",
    "  \n",
    "txn = env.begin(write=True)\n",
    "img_bytes = txn.get('00020_20990909_R_CC_3.dcm'.encode()) \n",
    "img_np = np.frombuffer(img_bytes, np.uint16)\n",
    "img_np = img_np.reshape((2,896,1120))\n",
    "show_img(img_np[0])\n",
    "\n",
    "# print(img_np.min(), img_np.max())\n",
    "# img_np = ((np.repeat(img_np[:, :, np.newaxis], 3, axis=2)/65535).astype(np.float32)-0.4)/0.2\n",
    "# print(img_np.min(), img_np.max())\n",
    "# show_img(img_np)"
   ]
  },
  {
   "cell_type": "code",
   "execution_count": null,
   "metadata": {},
   "outputs": [],
   "source": [
    "from lib.preprocess_utils import read_resize_img, segment_breast, horizontal_flip,convert_to_16bit,remove_pectoral,crop_img,clahe,crop_borders\n",
    "RESIZE = (1120, 896)"
   ]
  },
  {
   "cell_type": "code",
   "execution_count": null,
   "metadata": {},
   "outputs": [],
   "source": [
    "def process_pipeline(img_file_path):\n",
    "    target_height, target_width = RESIZE\n",
    "    img = read_resize_img(img_file_path)\n",
    "    img = crop_borders(img,border_size=(0,0,0.04,0.04))\n",
    "    img = np.clip(img,0.1*65535, 0.9*65535)\n",
    "    img = convert_to_16bit(img)\n",
    "    img_segment,crop_rect,breast_mask = segment_breast(img)\n",
    "    breast_mask = crop_img(breast_mask, crop_rect)\n",
    "    img_segment = remove_pectoral(img=img_segment)\n",
    "#     img_filped = horizontal_flip(img_segment,breast_mask)\n",
    "#     img_filped = clahe(img_filped*65535, 65535)\n",
    "#     img_resized = cv2.resize(img_filped,dsize=(target_width, target_height), \n",
    "#             interpolation=cv2.INTER_CUBIC)\n",
    "#     img_resized = convert_to_16bit(img_resized)\n",
    "    return img_segment"
   ]
  },
  {
   "cell_type": "code",
   "execution_count": null,
   "metadata": {},
   "outputs": [],
   "source": [
    "img_file = '/mnt/f/datasets/cbis-ddsm-png/full_mammogram_images/Mass-Training_P_00080_RIGHT_MLO.png'"
   ]
  },
  {
   "cell_type": "code",
   "execution_count": null,
   "metadata": {},
   "outputs": [],
   "source": [
    "img = cv2.imread(img_file, cv2.IMREAD_ANYDEPTH)\n",
    "show_img(img)"
   ]
  },
  {
   "cell_type": "code",
   "execution_count": null,
   "metadata": {},
   "outputs": [],
   "source": [
    "img = process_pipeline(img_file)\n",
    "print(img.min(),img.max())\n",
    "\n",
    "show_img(img)\n"
   ]
  },
  {
   "cell_type": "code",
   "execution_count": null,
   "metadata": {},
   "outputs": [],
   "source": []
  },
  {
   "cell_type": "code",
   "execution_count": null,
   "metadata": {},
   "outputs": [],
   "source": [
    "show_img(torch.squeeze(data_dict['img']))"
   ]
  },
  {
   "cell_type": "code",
   "execution_count": null,
   "metadata": {},
   "outputs": [],
   "source": [
    "data_dict['img'][0]"
   ]
  },
  {
   "cell_type": "code",
   "execution_count": null,
   "metadata": {},
   "outputs": [],
   "source": [
    "hist_full"
   ]
  }
 ],
 "metadata": {
  "interpreter": {
   "hash": "8609b21826d798a98d6deee4f5cc64606bfbea9c84f8e1d9b3bdca3981f93e7b"
  },
  "kernelspec": {
   "display_name": "Python 3.10.4 ('open-mmlab')",
   "language": "python",
   "name": "python3"
  },
  "language_info": {
   "codemirror_mode": {
    "name": "ipython",
    "version": 3
   },
   "file_extension": ".py",
   "mimetype": "text/x-python",
   "name": "python",
   "nbconvert_exporter": "python",
   "pygments_lexer": "ipython3",
   "version": "3.10.4"
  },
  "orig_nbformat": 4
 },
 "nbformat": 4,
 "nbformat_minor": 2
}

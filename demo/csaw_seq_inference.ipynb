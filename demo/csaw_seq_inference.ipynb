{
 "cells": [
  {
   "cell_type": "code",
   "execution_count": null,
   "metadata": {},
   "outputs": [],
   "source": [
    "import os"
   ]
  },
  {
   "cell_type": "code",
   "execution_count": null,
   "metadata": {},
   "outputs": [],
   "source": [
    "os.chdir('..')"
   ]
  },
  {
   "cell_type": "code",
   "execution_count": null,
   "metadata": {},
   "outputs": [],
   "source": [
    "import torch\n",
    "import copy\n",
    "import itertools\n",
    "import numpy as np\n",
    "from pathlib import Path\n",
    "\n",
    "import mmcv\n",
    "from mmcv import ProgressBar\n",
    "from mmcv.parallel import collate, scatter\n",
    "\n",
    "from mmcls.datasets.pipelines import Compose\n",
    "from mmcls.apis import init_model, show_result_pyplot\n",
    "from mmcls.apis import inference_model, init_model, show_result_pyplot"
   ]
  },
  {
   "cell_type": "code",
   "execution_count": null,
   "metadata": {},
   "outputs": [],
   "source": [
    "img = 'Img file'\n",
    "config = 'Config file'\n",
    "checkpoint = 'chkpt file'\n",
    "device = 'cuda:0'"
   ]
  },
  {
   "cell_type": "code",
   "execution_count": null,
   "metadata": {},
   "outputs": [],
   "source": [
    "# build the model from a config file and a checkpoint file\n",
    "model = init_model(args.config, args.checkpoint, device=args.device)\n",
    "# test a single image\n",
    "result = inference_model(model, args.img)\n",
    "# show the results\n",
    "print(mmcv.dump(result, file_format='json', indent=4))\n",
    "if args.show:\n",
    "    show_result_pyplot(model, args.img, result)"
   ]
  }
 ],
 "metadata": {
  "language_info": {
   "name": "python"
  },
  "orig_nbformat": 4
 },
 "nbformat": 4,
 "nbformat_minor": 2
}

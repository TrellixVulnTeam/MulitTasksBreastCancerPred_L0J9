{
 "cells": [
  {
   "cell_type": "code",
   "execution_count": 1,
   "metadata": {},
   "outputs": [],
   "source": [
    "import pandas as pd\n",
    "from sklearn.model_selection import train_test_split"
   ]
  },
  {
   "cell_type": "code",
   "execution_count": 2,
   "metadata": {},
   "outputs": [],
   "source": [
    "data_list = pd.read_csv('/mnt/c/Users/11351/Desktop/datasets/csaw_breast_lv_set/breast_lv_csaw_set.csv')"
   ]
  },
  {
   "cell_type": "code",
   "execution_count": 3,
   "metadata": {},
   "outputs": [],
   "source": [
    "train_set, test_set = train_test_split(data_list, test_size=0.1, random_state=32)\n",
    "train_set, val_set = train_test_split(train_set, test_size=0.1, random_state=32)"
   ]
  },
  {
   "cell_type": "code",
   "execution_count": 4,
   "metadata": {},
   "outputs": [
    {
     "name": "stdout",
     "output_type": "stream",
     "text": [
      "2957 329 366\n"
     ]
    }
   ],
   "source": [
    "print(len(train_set), len(val_set), len(test_set))"
   ]
  },
  {
   "cell_type": "code",
   "execution_count": 5,
   "metadata": {},
   "outputs": [],
   "source": [
    "train_set.to_csv('/mnt/c/Users/11351/Desktop/datasets/csaw_breast_lv_set/train_set.csv', index= False)\n",
    "val_set.to_csv('/mnt/c/Users/11351/Desktop/datasets/csaw_breast_lv_set/val_set.csv', index= False)\n",
    "test_set.to_csv('/mnt/c/Users/11351/Desktop/datasets/csaw_breast_lv_set/test_set.csv', index= False)"
   ]
  }
 ],
 "metadata": {
  "interpreter": {
   "hash": "8609b21826d798a98d6deee4f5cc64606bfbea9c84f8e1d9b3bdca3981f93e7b"
  },
  "kernelspec": {
   "display_name": "Python 3.10.4 ('open-mmlab')",
   "language": "python",
   "name": "python3"
  },
  "language_info": {
   "codemirror_mode": {
    "name": "ipython",
    "version": 3
   },
   "file_extension": ".py",
   "mimetype": "text/x-python",
   "name": "python",
   "nbconvert_exporter": "python",
   "pygments_lexer": "ipython3",
   "version": "3.10.4"
  },
  "orig_nbformat": 4
 },
 "nbformat": 4,
 "nbformat_minor": 2
}
